{
 "cells": [
  {
   "attachments": {},
   "cell_type": "markdown",
   "metadata": {},
   "source": [
    "Бутстрап предоставляет возможность оценить стандартное отклонение и построить доверительные интервалы для метрик, для которых не существует статистических критериев.\n",
    "\n",
    "\n",
    "Шаги алгоритма:\n",
    "\n",
    "1. Создаем пары подвыборок, каждая из которых имеет тот же размер, что и исходные данные, для контрольной и экспериментальной групп.\n",
    "2. Вычисляем метрики для каждой из групп.\n",
    "3. Рассчитываем разницу между метриками и сохраняем эту разность.\n",
    "4. Повторяем шаги 1-3 от 1000 до 10000 раз.\n",
    "5. Строим доверительный интервал с уровнем значимости альфа.\n",
    "6. Если ноль не попадает в доверительный интервал, то различия статистически значимы на уровне значимости альфа, в противном случае различия не являются статистически значимыми."
   ]
  },
  {
   "attachments": {},
   "cell_type": "markdown",
   "metadata": {},
   "source": [
    "Доверительный интервал будем использовать нормальный и перцептильный.\n",
    "\n",
    "1. Нормальный доверительный интервал имеют формулу $P( \\bar{pe} \\pm z \\cdot \\frac{\\sigma}{\\sqrt{n}}) \\geq 1 - \\alpha$, где:\n",
    "    * $\\bar{pe}$ - точечная оценка по истинной выборке\n",
    "    * $z$ - квантиль нормального распределения\n",
    "    * $\\frac{\\sigma}{\\sqrt{n}}$ - стандартная ошибка среднего, для метрик, посчитанных на основе бутстрап выборок нужно посчитать только среднеквадратическое отклонение\n",
    "    * $\\alpha$ - вероятность ошибки первого рода\n",
    "\n",
    "2. Чтобы посчитать перцентильный доверительный интервал, нужно отбросить крайние значения $\\alpha/2$ и $1-\\alpha/2$."
   ]
  },
  {
   "cell_type": "code",
   "execution_count": 17,
   "metadata": {},
   "outputs": [],
   "source": [
    "import numpy as np\n",
    "import pandas as pd\n",
    "import matplotlib.pyplot as plt\n",
    "import seaborn as sns\n",
    "\n",
    "from scipy import stats"
   ]
  },
  {
   "cell_type": "code",
   "execution_count": 18,
   "metadata": {},
   "outputs": [],
   "source": [
    "def normal_ci(pe, bootstrap_sample, alpha=0.05):\n",
    "    \"\"\"\n",
    "    Нормальный доверительный интервал\n",
    "    \"\"\"\n",
    "    z_quantile = stats.norm().ppf(1 - alpha / 2)\n",
    "    se = np.std(bootstrap_sample)\n",
    "    left, right = pe - z_quantile * se, pe + z_quantile * se\n",
    "    return left, right\n",
    "\n",
    "\n",
    "def percentile_ci(bootstrap_sample, alpha=0.05):\n",
    "    \"\"\"\n",
    "    Перцентильный доверительный интервал\n",
    "    \"\"\"\n",
    "    left, right = np.quantile(bootstrap_sample, [alpha/2, 1-alpha/2])\n",
    "    return left, right"
   ]
  },
  {
   "cell_type": "code",
   "execution_count": 19,
   "metadata": {},
   "outputs": [],
   "source": [
    "# В качестве примера, мы создадим две выборки размера 1000 из нормального \n",
    "# распределения и вычислим разницу между 0.99-м квантилем.\n",
    "\n",
    "n = 1000\n",
    "a_sample = np.random.normal(loc=11, scale=4, size=n)\n",
    "b_sample = np.random.normal(loc=11, scale=2, size=n)\n",
    "\n",
    "# точечная оценка для разницы квантилей\n",
    "pe = np.quantile(b_sample, 0.99) - np.quantile(a_sample, 0.99) \n",
    "\n",
    "# количество генерируемых подвыборок, оптимально 1000-10000\n",
    "B = 5000 \n",
    "\n",
    "# генерируем выборки с возвращением\n",
    "bootstrap_a_sample = np.random.choice(a_sample, size=(B, n), replace=True)\n",
    "bootstrap_b_sample = np.random.choice(b_sample, size=(B, n), replace=True)\n",
    "\n",
    "# считаем 0.99 квантиль для каждой подвыборки\n",
    "bootstrap_a_metrics = np.quantile(bootstrap_a_sample, 0.99, axis=1)\n",
    "bootstrap_b_metrics = np.quantile(bootstrap_b_sample, 0.99, axis=1)\n",
    "\n",
    "# считаем разницу квантилей\n",
    "bootstrap_pe = bootstrap_b_metrics - bootstrap_a_metrics"
   ]
  },
  {
   "cell_type": "code",
   "execution_count": 75,
   "metadata": {},
   "outputs": [
    {
     "name": "stdout",
     "output_type": "stream",
     "text": [
      "На основе нормального доверительного интервала гипотезу отвергаем.\n",
      "На основе перцентильного доверительного интервала гипотезу отвергаем.\n",
      "\n",
      "Согласно нормального ДИ, истинное значение лежит в интервале -4.64 - -3.02\n",
      "и -4.71 - -3.04 согласно перцентильго ДИ.\n"
     ]
    }
   ],
   "source": [
    "# остается посчитать доверительный интервал для точечной оценки\n",
    "\n",
    "n_left, n_right = normal_ci(pe, bootstrap_pe)\n",
    "p_left, p_right = percentile_ci(bootstrap_pe)\n",
    "\n",
    "normal_ci_result = 'не отвергаем' if n_left <= 0 <= n_right else 'отвергаем'\n",
    "percentile_ci_result = 'не отвергаем' if p_left <= 0 <= p_right else 'отвергаем'\n",
    "\n",
    "print(f'На основе нормального доверительного интервала гипотезу {normal_ci_result}.\\n'\n",
    "        f'На основе перцентильного доверительного интервала гипотезу {percentile_ci_result}.\\n\\n'\n",
    "\n",
    "        f'Согласно нормального ДИ, истинное значение лежит в интервале {n_left:0.2f} - {n_right:0.2f}\\n'\n",
    "        f'и {p_left:0.2f} - {p_right:0.2f} согласно перцентильго ДИ.'\n",
    ")"
   ]
  },
  {
   "cell_type": "code",
   "execution_count": 21,
   "metadata": {},
   "outputs": [
    {
     "data": {
      "image/png": "[encoded data removed]",
      "text/plain": [
       "<Figure size 640x480 with 1 Axes>"
      ]
     },
     "metadata": {},
     "output_type": "display_data"
    }
   ],
   "source": [
    "# визуализируем полученные результаты\n",
    "\n",
    "plt.hist(bootstrap_pe, bins=30, density=True)\n",
    "\n",
    "plt.plot(pe, 0, 'o', c='black', markersize=5, label='точечная оценка')\n",
    "\n",
    "p = 0.02\n",
    "plt.plot([n_left, n_right], [-p, -p], label='нормальный ДИ')\n",
    "plt.plot([p_left, p_right], [-p*2, -p*2], label='перцентильный ДИ')\n",
    "plt.plot([bootstrap_pe.min(), bootstrap_pe.max()], [0, 0], c='black')\n",
    "\n",
    "plt.title('Доверительный интервал для разницы 0.99 квантиля')\n",
    "plt.legend()\n",
    "\n",
    "plt.show();"
   ]
  },
  {
   "cell_type": "code",
   "execution_count": null,
   "metadata": {},
   "outputs": [],
   "source": []
  },
  {
   "cell_type": "code",
   "execution_count": null,
   "metadata": {},
   "outputs": [],
   "source": []
  },
  {
   "cell_type": "code",
   "execution_count": 44,
   "metadata": {},
   "outputs": [],
   "source": [
    "def bootstrap(a_sample, b_sample, func=np.mean):\n",
    "    \"\"\"\n",
    "    \"\"\"\n",
    "    ab_concat = np.concatenate([a_sample, b_sample])\n",
    "    ab_size = ab_concat.size\n",
    "    a_size = a_sample.size\n",
    "    b_size = b_sample.size\n",
    "\n",
    "    bootstrap = np.random.choice(ab_concat, size=ab_size, replace=True)\n",
    "    a_bootstrap = bootstrap[:a_size]\n",
    "    b_bootstrap = bootstrap[b_size:]\n",
    "\n",
    "    stat_diff = func(a_bootstrap) - func(b_bootstrap)\n",
    "\n",
    "    return stat_diff\n",
    "    "
   ]
  },
  {
   "cell_type": "code",
   "execution_count": 86,
   "metadata": {},
   "outputs": [
    {
     "name": "stdout",
     "output_type": "stream",
     "text": [
      "p-value = 0.053\n"
     ]
    }
   ],
   "source": [
    "a = np.random.normal(0, 3, size=1000)\n",
    "b = np.random.normal(0.2, 4, size=1000)\n",
    "\n",
    "func = np.mean\n",
    "stat_diff = func(b) - func(a)\n",
    "\n",
    "stat_distr = []\n",
    "for _ in range(1000):\n",
    "    stat = bootstrap(a, b, func=func)\n",
    "    stat_distr.append(stat)\n",
    "\n",
    "stat_distr = np.array(stat_distr)\n",
    "\n",
    "p_val = (stat_distr >= stat_diff).sum() + (stat_distr <= -stat_diff).sum()\n",
    "p_val_norm = p_val / len(stat_distr)\n",
    "\n",
    "print(f'p-value = {p_val_norm}')"
   ]
  },
  {
   "cell_type": "code",
   "execution_count": 87,
   "metadata": {},
   "outputs": [
    {
     "data": {
      "image/png": "[encoded data removed]",
      "text/plain": [
       "<Figure size 640x480 with 1 Axes>"
      ]
     },
     "metadata": {},
     "output_type": "display_data"
    }
   ],
   "source": [
    "hist = plt.hist(stat_distr, bins=30)\n",
    "\n",
    "ymax = hist[0].max()\n",
    "plt.vlines([-stat_diff, stat_diff], ymin=0, ymax=ymax, color='r', label='critical value')\n",
    "\n",
    "plt.title('')\n",
    "plt.xlabel('')\n",
    "plt.ylabel('')\n",
    "\n",
    "plt.show();"
   ]
  },
  {
   "cell_type": "code",
   "execution_count": null,
   "metadata": {},
   "outputs": [],
   "source": []
  },
  {
   "cell_type": "code",
   "execution_count": null,
   "metadata": {},
   "outputs": [],
   "source": []
  },
  {
   "cell_type": "code",
   "execution_count": null,
   "metadata": {},
   "outputs": [],
   "source": []
  },
  {
   "cell_type": "code",
   "execution_count": null,
   "metadata": {},
   "outputs": [],
   "source": []
  }
 ],
 "metadata": {
  "kernelspec": {
   "display_name": "base",
   "language": "python",
   "name": "python3"
  },
  "language_info": {
   "codemirror_mode": {
    "name": "ipython",
    "version": 3
   },
   "file_extension": ".py",
   "mimetype": "text/x-python",
   "name": "python",
   "nbconvert_exporter": "python",
   "pygments_lexer": "ipython3",
   "version": "3.10.9"
  },
  "orig_nbformat": 4
 },
 "nbformat": 4,
 "nbformat_minor": 2
}
